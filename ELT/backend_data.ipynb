{
	"cells": [
		{
			"cell_type": "code",
			"execution_count": 1,
			"metadata": {
				"tags": [],
				"trusted": true,
				"vscode": {
					"languageId": "python_glue_session"
				}
			},
			"outputs": [
				{
					"name": "stdout",
					"output_type": "stream",
					"text": [
						"Welcome to the Glue Interactive Sessions Kernel\n",
						"For more information on available magic commands, please type %help in any new cell.\n",
						"\n",
						"Please view our Getting Started page to access the most up-to-date information on the Interactive Sessions kernel: https://docs.aws.amazon.com/glue/latest/dg/interactive-sessions.html\n",
						"Installed kernel version: 1.0.4 \n",
						"Trying to create a Glue session for the kernel.\n",
						"Session Type: glueetl\n",
						"Worker Type: G.1X\n",
						"Number of Workers: 5\n",
						"Session ID: 77f58aff-004b-4554-8e6c-e8d35bc9000f\n",
						"Applying the following default arguments:\n",
						"--glue_kernel_version 1.0.4\n",
						"--enable-glue-datacatalog true\n",
						"Waiting for session 77f58aff-004b-4554-8e6c-e8d35bc9000f to get into ready status...\n",
						"Session 77f58aff-004b-4554-8e6c-e8d35bc9000f has been created.\n",
						"\n"
					]
				}
			],
			"source": [
				"import re\n",
				"import sys\n",
				"import logging\n",
				"from awsglue.transforms import *\n",
				"from awsglue.utils import getResolvedOptions\n",
				"from pyspark.context import SparkContext\n",
				"from awsglue.context import GlueContext\n",
				"from awsglue.job import Job\n",
				"from pyspark.sql.functions import explode, when, col, split, input_file_name, regexp_replace, udf, lit, monotonically_increasing_id\n",
				"from pyspark.sql.types import StringType\n",
				"from awsglue.dynamicframe import DynamicFrame"
			]
		},
		{
			"cell_type": "code",
			"execution_count": 2,
			"metadata": {
				"tags": [],
				"trusted": true,
				"vscode": {
					"languageId": "python_glue_session"
				}
			},
			"outputs": [
				{
					"name": "stdout",
					"output_type": "stream",
					"text": [
						"\n"
					]
				}
			],
			"source": [
				"args = getResolvedOptions(sys.argv, [])\n",
				"glueContext = GlueContext(SparkContext.getOrCreate())\n",
				"spark = glueContext.spark_session\n",
				"job = Job(glueContext)\n",
				"job_name = 'de-4-1-backend'\n",
				"job.init(job_name, args)"
			]
		},
		{
			"cell_type": "code",
			"execution_count": 3,
			"metadata": {
				"tags": [],
				"trusted": true,
				"vscode": {
					"languageId": "python_glue_session"
				}
			},
			"outputs": [
				{
					"name": "stdout",
					"output_type": "stream",
					"text": [
						"/opt/amazon/spark/python/lib/pyspark.zip/pyspark/sql/pandas/functions.py:394: UserWarning: In Python 3.6+ and Spark 3.0+, it is preferred to specify type hints for pandas UDF instead of specifying pandas UDF type which will be deprecated in the future releases. See SPARK-28264 for more details.\n"
					]
				}
			],
			"source": [
				"# uuid 추가\n",
				"\n",
				"import uuid\n",
				"from pyspark.sql.functions import pandas_udf, PandasUDFType\n",
				"from pyspark.sql.types import StringType\n",
				"import pandas as pd\n",
				"\n",
				"@pandas_udf(returnType=StringType(), functionType=PandasUDFType.SCALAR)\n",
				"def generate_uuid(series: pd.Series) -> pd.Series:\n",
				"    return series.apply(lambda x: str(uuid.uuid4()).replace(\"-\", \"\"))"
			]
		},
		{
			"cell_type": "code",
			"execution_count": 4,
			"metadata": {
				"tags": [],
				"trusted": true,
				"vscode": {
					"languageId": "python_glue_session"
				}
			},
			"outputs": [
				{
					"name": "stdout",
					"output_type": "stream",
					"text": [
						"\n"
					]
				}
			],
			"source": [
				"restaurant_dynamic = glueContext.create_dynamic_frame.from_catalog(\n",
				"    database='de-4-1-kakao-db',\n",
				"    table_name='info_type_info'\n",
				")"
			]
		},
		{
			"cell_type": "code",
			"execution_count": 5,
			"metadata": {
				"tags": [],
				"trusted": true,
				"vscode": {
					"languageId": "python_glue_session"
				}
			},
			"outputs": [
				{
					"name": "stdout",
					"output_type": "stream",
					"text": [
						"/opt/amazon/spark/python/lib/pyspark.zip/pyspark/sql/dataframe.py:127: UserWarning: DataFrame constructor is internal. Do not directly use it.\n"
					]
				}
			],
			"source": [
				"restaurant_df = restaurant_dynamic.toDF()\n",
				"restaurant_df = restaurant_df.drop('location')\n",
				"restaurant_df = restaurant_df.dropDuplicates([\"kakao_id\"])\n",
				"restaurant_df = restaurant_df.withColumn('uuid', generate_uuid(restaurant_df['kakao_id']))"
			]
		},
		{
			"cell_type": "code",
			"execution_count": 6,
			"metadata": {
				"tags": [],
				"trusted": true,
				"vscode": {
					"languageId": "python_glue_session"
				}
			},
			"outputs": [
				{
					"name": "stdout",
					"output_type": "stream",
					"text": [
						"37080\n"
					]
				}
			],
			"source": [
				"print(restaurant_df.count())"
			]
		},
		{
			"cell_type": "code",
			"execution_count": null,
			"metadata": {
				"tags": [],
				"trusted": true,
				"vscode": {
					"languageId": "python_glue_session"
				}
			},
			"outputs": [],
			"source": [
				"restaurant_df = restaurant_df.coalesce(1)\n",
				"\n",
				"restaurant_df.write.format('csv').option('header', 'true').save('s3://de-4-1-glue-test/backend/restaurant/')"
			]
		},
		{
			"cell_type": "code",
			"execution_count": 6,
			"metadata": {
				"tags": [],
				"trusted": true,
				"vscode": {
					"languageId": "python_glue_session"
				}
			},
			"outputs": [
				{
					"name": "stdout",
					"output_type": "stream",
					"text": [
						"\n"
					]
				}
			],
			"source": [
				"resataurant_df = restaurant_df.na.drop(subset=['uuid'])"
			]
		},
		{
			"cell_type": "code",
			"execution_count": 7,
			"metadata": {
				"tags": [],
				"trusted": true,
				"vscode": {
					"languageId": "python_glue_session"
				}
			},
			"outputs": [
				{
					"name": "stdout",
					"output_type": "stream",
					"text": [
						"\n"
					]
				}
			],
			"source": [
				"resataurant_df = resataurant_df.withColumn('name', regexp_replace(\"name\", \",\", \" \"))"
			]
		},
		{
			"cell_type": "code",
			"execution_count": 7,
			"metadata": {
				"tags": [],
				"trusted": true,
				"vscode": {
					"languageId": "python_glue_session"
				}
			},
			"outputs": [
				{
					"name": "stdout",
					"output_type": "stream",
					"text": [
						"+-----------+-----------------------+------------+---------------+-----------+------+-------+------------+------------------+--------+------------+---------+-----------------------------------+----------+-----------------------------+----------+--------+----+-----+---+--------------------+\n",
						"|last_update|                   name|english_name|        address|postal_code|  xpos|   ypos|       phone|        open_hours|homepage|introduction| category|                               tags|facilities|                        menus|  kakao_id| keyword|year|month|day|                uuid|\n",
						"+-----------+-----------------------+------------+---------------+-----------+------+-------+------------+------------------+--------+------------+---------+-----------------------------------+----------+-----------------------------+----------+--------+----+-----+---+--------------------+\n",
						"|2023.11.08.|일번지정육식당 장한평점|            |      장한로 18|      02644|514554|1128674|02-2212-9926|매일 11:00 ~ 23:00|        |            |육류,고기|정육식당;친목모임;회식장소;제로페이|          |    큰소 한마리(1.2kg) (73...|1003435917|장한평역|2024|   02| 22|d862d4a15f9044f6a...|\n",
						"|2023.12.11.|    영동교집 장안직영점|            |천호대로83길 32|      02636|514414|1128851|02-3394-5882|매일 11:00 ~ 24:00|        |            |육류,고기|레트로풍;점심특선;회식장소;제로페이|          |고사리소고기해장국 (10,000...|1003435917|장한평역|2024|   02| 22|b3be9fc49c3349349...|\n",
						"|2023.11.28.|      정대감감자탕 본점|            |천호대로83길 46|      02636|514501|1129035|02-2242-2533|매일 00:00 ~ 24:00|        |            |   감자탕|                      혼밥;제로페이|   parking|    뼈다귀찜 (소) (39,000,...|1003435917|장한평역|2024|   02| 22|8d44e74d01a041f08...|\n",
						"|2024.02.07.|        대한곱창 장안점|            |천호대로85길 21|      02644|514650|1128722|            |매일 15:00 ~ 02:00|        |            |곱창,막창|                             오뎅바|          |     모둠곱창 (19,000, , h...|1003435917|장한평역|2024|   02| 22|ec2e8248e65742719...|\n",
						"|2023.11.28.|          송쉐프 장안점|            |   장한로2길 20|      02645|514648|1128427|02-2215-9999|매일 11:00 ~ 21:00|        |            | 중국요리|         가족모임;친목모임;제로페이|   parking|     짜장면 (7,000, , );볶...|1003435917|장한평역|2024|   02| 22|159fb5f301c143338...|\n",
						"+-----------+-----------------------+------------+---------------+-----------+------+-------+------------+------------------+--------+------------+---------+-----------------------------------+----------+-----------------------------+----------+--------+----+-----+---+--------------------+\n",
						"only showing top 5 rows\n"
					]
				}
			],
			"source": [
				"restaurant_df.show(5)"
			]
		},
		{
			"cell_type": "code",
			"execution_count": 7,
			"metadata": {
				"tags": [],
				"trusted": true,
				"vscode": {
					"languageId": "python_glue_session"
				}
			},
			"outputs": [
				{
					"name": "stdout",
					"output_type": "stream",
					"text": [
						"\n"
					]
				}
			],
			"source": [
				"# location 추가\n",
				"cong_dynamic = glueContext.create_dynamic_frame.from_options(\n",
				"    \"s3\",\n",
				"    {'paths': [\"s3://de-4-1-glue-test/congestion/\"]},\n",
				"    \"csv\",\n",
				"    {\"withHeader\": True}  \n",
				")"
			]
		},
		{
			"cell_type": "code",
			"execution_count": 8,
			"metadata": {
				"tags": [],
				"trusted": true,
				"vscode": {
					"languageId": "python_glue_session"
				}
			},
			"outputs": [
				{
					"name": "stdout",
					"output_type": "stream",
					"text": [
						"\n"
					]
				}
			],
			"source": [
				"cong_df = cong_dynamic.toDF()\n",
				"# cong_df.show(5)"
			]
		},
		{
			"cell_type": "code",
			"execution_count": 9,
			"metadata": {
				"tags": [],
				"trusted": true,
				"vscode": {
					"languageId": "python_glue_session"
				}
			},
			"outputs": [
				{
					"name": "stdout",
					"output_type": "stream",
					"text": [
						"\n"
					]
				}
			],
			"source": [
				"cong_df = cong_df['location', 'gu_id']"
			]
		},
		{
			"cell_type": "markdown",
			"metadata": {},
			"source": [
				"# info"
			]
		},
		{
			"cell_type": "code",
			"execution_count": 13,
			"metadata": {
				"tags": [],
				"trusted": true,
				"vscode": {
					"languageId": "python_glue_session"
				}
			},
			"outputs": [
				{
					"name": "stdout",
					"output_type": "stream",
					"text": [
						"\n"
					]
				}
			],
			"source": [
				"info_dynamic = glueContext.create_dynamic_frame.from_options(\n",
				"    \"s3\",\n",
				"    {'paths': [\"s3://de-4-1-glue-test/backend/restaurant_restaurantinfo/\"]},\n",
				"    \"csv\",\n",
				"    {\"withHeader\": True}  \n",
				")\n",
				"\n",
				"info_df = info_dynamic.toDF()"
			]
		},
		{
			"cell_type": "code",
			"execution_count": 10,
			"metadata": {
				"tags": [],
				"trusted": true,
				"vscode": {
					"languageId": "python_glue_session"
				}
			},
			"outputs": [
				{
					"name": "stdout",
					"output_type": "stream",
					"text": [
						"\n"
					]
				}
			],
			"source": [
				"info_column = ['uuid', 'name', 'address', 'phone', 'kakao_id', 'keyword', 'last_update']\n",
				"info_df = restaurant_df[info_column]\n",
				"info_df = info_df.withColumn('source', lit('K'))\n",
				"#info_df = info_df.withColumnRenamed('keyword', 'location')\n",
				"info_df = info_df.withColumnRenamed('last_update', 'store_info_last_update')\n",
				"# info_df.show(5)"
			]
		},
		{
			"cell_type": "code",
			"execution_count": 11,
			"metadata": {
				"tags": [],
				"trusted": true,
				"vscode": {
					"languageId": "python_glue_session"
				}
			},
			"outputs": [
				{
					"name": "stdout",
					"output_type": "stream",
					"text": [
						"\n"
					]
				}
			],
			"source": [
				"# gu_id 추가\n",
				"info_df = info_df.join(cong_df, info_df['keyword'] == cong_df['location'], 'left')\n",
				"info_df = info_df.drop('location')\n",
				"# info_df.show(5)"
			]
		},
		{
			"cell_type": "code",
			"execution_count": 19,
			"metadata": {
				"tags": [],
				"trusted": true,
				"vscode": {
					"languageId": "python_glue_session"
				}
			},
			"outputs": [
				{
					"name": "stdout",
					"output_type": "stream",
					"text": [
						"root\n",
						" |-- uuid: string (nullable = true)\n",
						" |-- name: string (nullable = true)\n",
						" |-- address: string (nullable = true)\n",
						" |-- phone: string (nullable = true)\n",
						" |-- kakao_id: string (nullable = true)\n",
						" |-- store_info_last_update: string (nullable = true)\n",
						" |-- source: string (nullable = false)\n",
						" |-- gu_id: string (nullable = true)\n"
					]
				}
			],
			"source": [
				"info_df.printSchema()"
			]
		},
		{
			"cell_type": "code",
			"execution_count": 38,
			"metadata": {
				"tags": [],
				"trusted": true,
				"vscode": {
					"languageId": "python_glue_session"
				}
			},
			"outputs": [
				{
					"name": "stdout",
					"output_type": "stream",
					"text": [
						"+--------------------+----------------------------+-----------------+-------------+----------+----------------------+------+-----+\n",
						"|                uuid|                        name|          address|        phone|  kakao_id|store_info_last_update|source|gu_id|\n",
						"+--------------------+----------------------------+-----------------+-------------+----------+----------------------+------+-----+\n",
						"|e7681da912d541df9...|                      오랑지|    동교로38길 13|             |1007372949|           2024.01.30.|     K|   21|\n",
						"|b6e36afda9344430a...|           온달집 홍대직영점|       잔다리로 9|  02-332-4936|1009353804|           2023.11.08.|     K|   21|\n",
						"|762f8ac76a6b4cceb...|스타일난다 핑크풀카페 홍대점|와우산로29다길 23|070-7663-6909|1010612115|           2023.03.15.|     K|   21|\n",
						"|df146eb9319b4b438...|                    더파이홀|   연세로5나길 20|010-4258-1181|1011256721|           2023.07.14.|     K|   21|\n",
						"|cd8224ae907f443c8...|                  쿠시노주방|     동교로 218-1|010-4941-6635|1029469924|           2023.11.28.|     K|   21|\n",
						"|054b31b26eff48888...|                마포곱창타운|    동교로27길 20|  02-336-4496|  10341266|           2024.01.22.|     K|   21|\n",
						"|24bae3d296d342ecb...|                  땡스네이쳐|        홍익로 10|  02-332-7470|  10368349|           2023.08.15.|     K|   21|\n",
						"|af77cbb1f50d43eea...|         몬스터피자 동교동점| 월드컵북로2길 93|070-8950-9440|1037601270|           2023.12.18.|     K|   21|\n",
						"|3ca2ae2f5d904c6d9...|         역전포장마차 홍대점|       양화로 183|  02-322-3336|1038780936|           2024.02.02.|     K|   21|\n",
						"|02560547be2a45459...|                연남족발1987|       동교로 222|070-7760-1086|1041224037|           2024.01.23.|     K|   21|\n",
						"+--------------------+----------------------------+-----------------+-------------+----------+----------------------+------+-----+\n",
						"only showing top 10 rows\n"
					]
				}
			],
			"source": [
				"info_df.show(10)"
			]
		},
		{
			"cell_type": "code",
			"execution_count": 12,
			"metadata": {
				"tags": [],
				"trusted": true,
				"vscode": {
					"languageId": "python_glue_session"
				}
			},
			"outputs": [
				{
					"name": "stdout",
					"output_type": "stream",
					"text": [
						"\n"
					]
				}
			],
			"source": [
				"info_df = info_df.withColumn(\"gu_id\", when(info_df.keyword == \"이태원\", 21).otherwise(info_df.gu_id))\n",
				"info_df = info_df.withColumn(\"gu_id\", when(info_df.keyword == \"홍대입구역\", 13).otherwise(info_df.gu_id))\n",
				"info_df = info_df.withColumn(\"gu_id\", when(info_df.keyword == \"쌍문동\", 10).otherwise(info_df.gu_id))\n",
				"info_df = info_df.withColumn(\"gu_id\", when(info_df.keyword == \"방배역\", 15).otherwise(info_df.gu_id))\n",
				"info_df = info_df.withColumn(\"gu_id\", when(info_df.keyword == \"시청광장\", 24).otherwise(info_df.gu_id))"
			]
		},
		{
			"cell_type": "code",
			"execution_count": 16,
			"metadata": {
				"tags": [],
				"trusted": true,
				"vscode": {
					"languageId": "python_glue_session"
				}
			},
			"outputs": [
				{
					"name": "stdout",
					"output_type": "stream",
					"text": [
						"\n"
					]
				}
			],
			"source": [
				"info_df = info_df.na.drop(subset=['keyword'])\n",
				"info_df = info_df.na.drop(subset=['uuid'])"
			]
		},
		{
			"cell_type": "code",
			"execution_count": null,
			"metadata": {
				"vscode": {
					"languageId": "plaintext"
				}
			},
			"outputs": [],
			"source": [
				"info_df = info_df.drop('keyword')\n",
				"info_df = info_df.coalesce(1)\n",
				"\n",
				"info_df.write.format('csv').option('header', 'true').save('s3://de-4-1-glue-test/backend/restaurant_restaurantinfo/')"
			]
		},
		{
			"cell_type": "markdown",
			"metadata": {},
			"source": [
				"## category"
			]
		},
		{
			"cell_type": "code",
			"execution_count": 22,
			"metadata": {
				"tags": [],
				"trusted": true,
				"vscode": {
					"languageId": "python_glue_session"
				}
			},
			"outputs": [
				{
					"name": "stdout",
					"output_type": "stream",
					"text": [
						"\n"
					]
				}
			],
			"source": [
				"cate_split = restaurant_df.withColumn('category', explode(split(restaurant_df['category'], ',')))\n",
				"category_df = cate_split.select('category').distinct()"
			]
		},
		{
			"cell_type": "code",
			"execution_count": 23,
			"metadata": {
				"tags": [],
				"trusted": true,
				"vscode": {
					"languageId": "python_glue_session"
				}
			},
			"outputs": [
				{
					"name": "stdout",
					"output_type": "stream",
					"text": [
						"\n"
					]
				}
			],
			"source": [
				"category_df = category_df.withColumn('id', monotonically_increasing_id())\n",
				"category_df = category_df.withColumnRenamed('category', 'name')\n",
				"# category_df.show(20)"
			]
		},
		{
			"cell_type": "code",
			"execution_count": null,
			"metadata": {
				"tags": [],
				"trusted": true,
				"vscode": {
					"languageId": "python_glue_session"
				}
			},
			"outputs": [],
			"source": [
				"# num_partitions = 20  \n",
				"# partitioned_cate = category_df.repartition(num_partitions)\n",
				"category_df = category_df.coalesce(1)\n",
				"\n",
				"category_df.write.format('csv').option('header', 'true').save('s3://de-4-1-glue-test/backend/restaurant_category/')"
			]
		},
		{
			"cell_type": "code",
			"execution_count": 16,
			"metadata": {
				"tags": [],
				"trusted": true,
				"vscode": {
					"languageId": "python_glue_session"
				}
			},
			"outputs": [
				{
					"name": "stdout",
					"output_type": "stream",
					"text": [
						"557\n"
					]
				}
			],
			"source": [
				"print(category_df.count())"
			]
		},
		{
			"cell_type": "code",
			"execution_count": 51,
			"metadata": {
				"tags": [],
				"trusted": true,
				"vscode": {
					"languageId": "python_glue_session"
				}
			},
			"outputs": [
				{
					"name": "stdout",
					"output_type": "stream",
					"text": [
						"\n"
					]
				}
			],
			"source": [
				"# category 중간테이블\n",
				"category_column = ['category', 'uuid']\n",
				"info_cate_df = restaurant_df[category_column]\n",
				"info_cate_df = info_cate_df.withColumnRenamed('uuid', 'restaurantinfo_id')\n",
				"info_cate_df = info_cate_df.withColumn('name', explode(split(info_cate_df['category'], ',')))\n",
				"\n",
				"info_cate_df = info_cate_df.join(category_df, info_cate_df['name'] == category_df['name'], 'inner')\n",
				"info_cate_df = info_cate_df.withColumnRenamed('id', 'category_id')\n",
				"\n",
				"info_cate_df = info_cate_df.withColumn('id', monotonically_increasing_id())\n",
				"\n",
				"info_cate_df = info_cate_df.drop('category', 'name')"
			]
		},
		{
			"cell_type": "code",
			"execution_count": 52,
			"metadata": {
				"tags": [],
				"trusted": true,
				"vscode": {
					"languageId": "python_glue_session"
				}
			},
			"outputs": [
				{
					"name": "stdout",
					"output_type": "stream",
					"text": [
						"\n"
					]
				}
			],
			"source": [
				"info_cate_df = info_cate_df.na.drop(subset=['category_id'])\n",
				"# cate.show()"
			]
		},
		{
			"cell_type": "code",
			"execution_count": 53,
			"metadata": {
				"tags": [],
				"trusted": true,
				"vscode": {
					"languageId": "python_glue_session"
				}
			},
			"outputs": [
				{
					"name": "stdout",
					"output_type": "stream",
					"text": [
						"\n"
					]
				}
			],
			"source": [
				"num_partitions = 20  \n",
				"partitioned_info_cate = info_cate_df.repartition(num_partitions)\n",
				"\n",
				"partitioned_info_cate.write.format('csv').option('header', 'true').save('s3://de-4-1-glue-test/backend/restaurant_restaurantinfo_category/')"
			]
		},
		{
			"cell_type": "code",
			"execution_count": 33,
			"metadata": {
				"tags": [],
				"trusted": true,
				"vscode": {
					"languageId": "python_glue_session"
				}
			},
			"outputs": [
				{
					"name": "stdout",
					"output_type": "stream",
					"text": [
						"root\n",
						" |-- restaurantinfo_id: string (nullable = true)\n",
						" |-- category_id: long (nullable = true)\n",
						" |-- id: long (nullable = false)\n"
					]
				}
			],
			"source": [
				"info_cate_df.printSchema()"
			]
		},
		{
			"cell_type": "markdown",
			"metadata": {},
			"source": [
				"### open hours"
			]
		},
		{
			"cell_type": "code",
			"execution_count": 32,
			"metadata": {
				"tags": [],
				"trusted": true,
				"vscode": {
					"languageId": "python_glue_session"
				}
			},
			"outputs": [
				{
					"name": "stdout",
					"output_type": "stream",
					"text": [
						"\n"
					]
				}
			],
			"source": [
				"open_split = restaurant_df.withColumn('opening_hours', explode(split(restaurant_df['open_hours'], ';')))\n",
				"open_df = open_split.select('opening_hours').distinct()\n",
				"open_df = open_df.withColumn('id', monotonically_increasing_id())\n",
				"# open_df.show(20)"
			]
		},
		{
			"cell_type": "code",
			"execution_count": 33,
			"metadata": {
				"tags": [],
				"trusted": true,
				"vscode": {
					"languageId": "python_glue_session"
				}
			},
			"outputs": [
				{
					"name": "stdout",
					"output_type": "stream",
					"text": [
						"\n"
					]
				}
			],
			"source": [
				"num_partitions = 10  \n",
				"partitioned_open = open_df.repartition(num_partitions)\n",
				"\n",
				"partitioned_open.write.format('csv').option('header', 'true').save('s3://de-4-1-glue-test/backend/restaurant_openhour/')"
			]
		},
		{
			"cell_type": "code",
			"execution_count": 36,
			"metadata": {
				"tags": [],
				"trusted": true,
				"vscode": {
					"languageId": "python_glue_session"
				}
			},
			"outputs": [
				{
					"name": "stdout",
					"output_type": "stream",
					"text": [
						"root\n",
						" |-- opening_hours: string (nullable = false)\n",
						" |-- openhour_id: long (nullable = false)\n"
					]
				}
			],
			"source": [
				"open_df.printSchema()"
			]
		},
		{
			"cell_type": "code",
			"execution_count": 34,
			"metadata": {
				"tags": [],
				"trusted": true,
				"vscode": {
					"languageId": "python_glue_session"
				}
			},
			"outputs": [
				{
					"name": "stdout",
					"output_type": "stream",
					"text": [
						"\n"
					]
				}
			],
			"source": [
				"# open_hour 중간테이블\n",
				"open_column = ['open_hours', 'uuid']\n",
				"info_open_df = restaurant_df[open_column]\n",
				"info_open_df = info_open_df.withColumnRenamed('uuid', 'restaurantinfo_id')\n",
				"info_open_df = info_open_df.withColumn('opening_hours', explode(split(info_open_df['open_hours'], ';')))\n",
				"\n",
				"info_open_df = info_open_df.join(open_df, info_open_df['opening_hours'] == open_df['opening_hours'], 'left')\n",
				"info_open_df = info_open_df.withColumnRenamed('id', 'openhour_id')\n",
				"\n",
				"info_open_df = info_open_df.withColumn('id', monotonically_increasing_id())\n",
				"\n",
				"info_open_df = info_open_df.drop('open_hours', 'opening_hours')"
			]
		},
		{
			"cell_type": "code",
			"execution_count": 35,
			"metadata": {
				"tags": [],
				"trusted": true,
				"vscode": {
					"languageId": "python_glue_session"
				}
			},
			"outputs": [
				{
					"name": "stdout",
					"output_type": "stream",
					"text": [
						"\n"
					]
				}
			],
			"source": [
				"info_open_df = info_open_df.na.drop(subset=['openhour_id'])"
			]
		},
		{
			"cell_type": "code",
			"execution_count": 36,
			"metadata": {
				"tags": [],
				"trusted": true,
				"vscode": {
					"languageId": "python_glue_session"
				}
			},
			"outputs": [
				{
					"name": "stdout",
					"output_type": "stream",
					"text": [
						"\n"
					]
				}
			],
			"source": [
				"num_partitions = 20  \n",
				"partitioned_info_open = info_open_df.repartition(num_partitions)\n",
				"\n",
				"partitioned_info_open.write.format('csv').option('header', 'true').save('s3://de-4-1-glue-test/backend/restaurant_restaurantinfo_open_hours/')"
			]
		},
		{
			"cell_type": "code",
			"execution_count": 39,
			"metadata": {
				"tags": [],
				"trusted": true,
				"vscode": {
					"languageId": "python_glue_session"
				}
			},
			"outputs": [
				{
					"name": "stdout",
					"output_type": "stream",
					"text": [
						"root\n",
						" |-- restaurantinfo_id: string (nullable = true)\n",
						" |-- openhour_id: long (nullable = true)\n",
						" |-- id: long (nullable = false)\n"
					]
				}
			],
			"source": [
				"info_open_df.printSchema()"
			]
		},
		{
			"cell_type": "markdown",
			"metadata": {},
			"source": [
				"## tags"
			]
		},
		{
			"cell_type": "code",
			"execution_count": 40,
			"metadata": {
				"tags": [],
				"trusted": true,
				"vscode": {
					"languageId": "python_glue_session"
				}
			},
			"outputs": [
				{
					"name": "stdout",
					"output_type": "stream",
					"text": [
						"\n"
					]
				}
			],
			"source": [
				"tags_split = restaurant_df.withColumn('tags', explode(split(restaurant_df['tags'], ';')))\n",
				"tags_df = tags_split.select('tags').distinct()\n",
				"tags_df = tags_df.withColumn('id', monotonically_increasing_id())\n",
				"tags_df = tags_df.withColumnRenamed('tags', 'tag')\n",
				"# tags_df.show(20)"
			]
		},
		{
			"cell_type": "code",
			"execution_count": 26,
			"metadata": {
				"tags": [],
				"trusted": true,
				"vscode": {
					"languageId": "python_glue_session"
				}
			},
			"outputs": [
				{
					"name": "stdout",
					"output_type": "stream",
					"text": [
						"3735\n"
					]
				}
			],
			"source": [
				"print(tags_df.count())"
			]
		},
		{
			"cell_type": "code",
			"execution_count": 24,
			"metadata": {
				"tags": [],
				"trusted": true,
				"vscode": {
					"languageId": "python_glue_session"
				}
			},
			"outputs": [
				{
					"name": "stdout",
					"output_type": "stream",
					"text": [
						"root\n",
						" |-- tag: string (nullable = false)\n",
						" |-- id: long (nullable = false)\n"
					]
				}
			],
			"source": [
				"tags_df.printSchema()"
			]
		},
		{
			"cell_type": "code",
			"execution_count": 41,
			"metadata": {
				"tags": [],
				"trusted": true,
				"vscode": {
					"languageId": "python_glue_session"
				}
			},
			"outputs": [
				{
					"name": "stdout",
					"output_type": "stream",
					"text": [
						"\n"
					]
				}
			],
			"source": [
				"num_partitions = 20  \n",
				"partitioned_tags = tags_df.repartition(num_partitions)\n",
				"\n",
				"partitioned_tags.write.format('csv').option('header', 'true').save('s3://de-4-1-glue-test/backend/restaurant_tags/')"
			]
		},
		{
			"cell_type": "code",
			"execution_count": 45,
			"metadata": {
				"tags": [],
				"trusted": true,
				"vscode": {
					"languageId": "python_glue_session"
				}
			},
			"outputs": [
				{
					"name": "stdout",
					"output_type": "stream",
					"text": [
						"\n"
					]
				}
			],
			"source": [
				"# tags 중간테이블\n",
				"tags_column = ['tags', 'uuid']\n",
				"info_tags_df = restaurant_df[tags_column]\n",
				"info_tags_df = info_tags_df.withColumnRenamed('uuid', 'restaurantinfo_id')\n",
				"info_tags_df = info_tags_df.withColumn('tag', explode(split(info_tags_df['tags'], ';')))\n",
				"\n",
				"info_tags_df = info_tags_df.join(tags_df, info_tags_df['tag'] == tags_df['tag'], 'left')\n",
				"info_tags_df = info_tags_df.withColumnRenamed('id', 'tags_id')\n",
				"\n",
				"info_tags_df = info_tags_df.withColumn('id', monotonically_increasing_id())\n",
				"\n",
				"info_tags_df = info_tags_df.drop('tags', 'tag')"
			]
		},
		{
			"cell_type": "code",
			"execution_count": 43,
			"metadata": {
				"tags": [],
				"trusted": true,
				"vscode": {
					"languageId": "python_glue_session"
				}
			},
			"outputs": [
				{
					"name": "stdout",
					"output_type": "stream",
					"text": [
						"\n"
					]
				}
			],
			"source": [
				"info_tags_df = info_tags_df.na.drop(subset=['tags_id'])"
			]
		},
		{
			"cell_type": "code",
			"execution_count": 44,
			"metadata": {
				"tags": [],
				"trusted": true,
				"vscode": {
					"languageId": "python_glue_session"
				}
			},
			"outputs": [
				{
					"name": "stdout",
					"output_type": "stream",
					"text": [
						"\n"
					]
				}
			],
			"source": [
				"num_partitions = 20  \n",
				"partitioned_info_tags = info_tags_df.repartition(num_partitions)\n",
				"\n",
				"partitioned_info_tags.write.format('csv').option('header', 'true').save('s3://de-4-1-glue-test/backend/restaurant_restaurantinfo_tags/')"
			]
		},
		{
			"cell_type": "code",
			"execution_count": 30,
			"metadata": {
				"tags": [],
				"trusted": true,
				"vscode": {
					"languageId": "python_glue_session"
				}
			},
			"outputs": [
				{
					"name": "stdout",
					"output_type": "stream",
					"text": [
						"root\n",
						" |-- tag: string (nullable = false)\n",
						" |-- id: long (nullable = false)\n"
					]
				}
			],
			"source": [
				"# tags_df.printSchema()"
			]
		},
		{
			"cell_type": "markdown",
			"metadata": {},
			"source": [
				"## facilities - XXXXX"
			]
		},
		{
			"cell_type": "code",
			"execution_count": 20,
			"metadata": {
				"tags": [],
				"trusted": true,
				"vscode": {
					"languageId": "python_glue_session"
				}
			},
			"outputs": [
				{
					"name": "stdout",
					"output_type": "stream",
					"text": [
						"5\n",
						"+--------------------+--------------------+\n",
						"|          facilities|                uuid|\n",
						"+--------------------+--------------------+\n",
						"|                wifi|7cd86d8e-c7a5-486...|\n",
						"|        pet_friendly|b7ab920e-aa6f-471...|\n",
						"|             parking|7e738692-ecff-451...|\n",
						"|                    |85b3cad8-a247-49a...|\n",
						"|disabled_accessib...|58fa1265-94d8-461...|\n",
						"+--------------------+--------------------+\n"
					]
				}
			],
			"source": [
				"fac_split = restaurant_df.withColumn('facilities', explode(split(restaurant_df['facilities'], ';')))\n",
				"fac_df = fac_split.select('facilities').distinct()\n",
				"fac_df = fac_df.withColumn('uuid', generate_uuid(fac_df['facilities']))\n",
				"print(fac_df.count())\n",
				"fac_df.show(20)"
			]
		},
		{
			"cell_type": "code",
			"execution_count": 21,
			"metadata": {
				"tags": [],
				"trusted": true,
				"vscode": {
					"languageId": "python_glue_session"
				}
			},
			"outputs": [
				{
					"name": "stdout",
					"output_type": "stream",
					"text": [
						"\n"
					]
				}
			],
			"source": [
				"# facilities 중간테이블\n",
				"fac_column = ['facilities', 'uuid']\n",
				"info_fac_df = restaurant_df[fac_column]\n",
				"info_fac_df = info_fac_df.withColumnRenamed('uuid', 'restaurant_uuid')\n",
				"info_fac_df = info_fac_df.withColumn('facilities', explode(split(info_fac_df['facilities'], ';')))\n",
				"\n",
				"info_fac_df = info_fac_df.join(fac_df, info_fac_df['facilities'] == fac_df['facilities'], 'left')\n",
				"info_fac_df = info_fac_df.withColumnRenamed('uuid', 'facilities_uuid')\n",
				"\n",
				"info_fac_df = info_fac_df.withColumn('uuid', generate_uuid(info_fac_df['restaurant_uuid']))\n",
				"\n",
				"info_fac_df = info_fac_df.drop('facilities', 'facilities')"
			]
		},
		{
			"cell_type": "code",
			"execution_count": 22,
			"metadata": {
				"tags": [],
				"trusted": true,
				"vscode": {
					"languageId": "python_glue_session"
				}
			},
			"outputs": [
				{
					"name": "stdout",
					"output_type": "stream",
					"text": [
						"643688\n",
						"+--------------------+--------------------+--------------------+\n",
						"|     restaurant_uuid|     facilities_uuid|                uuid|\n",
						"+--------------------+--------------------+--------------------+\n",
						"|61f9758d-295d-4f9...|2e3f069a-d1d8-48f...|1b01346d-f1e3-451...|\n",
						"|34c565af-22b6-4f0...|56f9519e-b93b-4f4...|3daa3955-c7c7-48c...|\n",
						"|05f75e58-c7fd-4bc...|56f9519e-b93b-4f4...|431b51a1-a623-4fa...|\n",
						"|89ee84a2-7f51-4f0...|56f9519e-b93b-4f4...|0a5e39d5-c7c4-495...|\n",
						"|ebe498a3-3336-4ed...|56f9519e-b93b-4f4...|992cf118-e5e6-4cc...|\n",
						"+--------------------+--------------------+--------------------+\n",
						"only showing top 5 rows\n"
					]
				}
			],
			"source": [
				"print(info_fac_df.count())\n",
				"info_fac_df.show(5)"
			]
		},
		{
			"cell_type": "markdown",
			"metadata": {},
			"source": [
				"## menu"
			]
		},
		{
			"cell_type": "code",
			"execution_count": null,
			"metadata": {
				"tags": [],
				"trusted": true,
				"vscode": {
					"languageId": "python_glue_session"
				}
			},
			"outputs": [],
			"source": [
				"# menu_df.show()"
			]
		},
		{
			"cell_type": "code",
			"execution_count": 27,
			"metadata": {
				"tags": [],
				"trusted": true,
				"vscode": {
					"languageId": "python_glue_session"
				}
			},
			"outputs": [
				{
					"name": "stdout",
					"output_type": "stream",
					"text": [
						"root\n",
						" |-- kakao_id: string (nullable = true)\n",
						" |-- menu: string (nullable = true)\n",
						" |-- price: string (nullable = true)\n",
						" |-- description: string (nullable = true)\n",
						" |-- img: string (nullable = true)\n",
						" |-- id: long (nullable = false)\n"
					]
				}
			],
			"source": [
				"menu_df.printSchema()"
			]
		},
		{
			"cell_type": "code",
			"execution_count": 46,
			"metadata": {
				"tags": [],
				"trusted": true,
				"vscode": {
					"languageId": "python_glue_session"
				}
			},
			"outputs": [
				{
					"name": "stdout",
					"output_type": "stream",
					"text": [
						"\n"
					]
				}
			],
			"source": [
				"menu_column = ['kakao_id', 'menus']\n",
				"menu_df = restaurant_df[menu_column]\n",
				"menu_df = menu_df.withColumn('menus', explode(split(menu_df['menus'], ';')))\n",
				"\n",
				"@udf(StringType())\n",
				"def extract_menu_name(menu):\n",
				"    if '(' in menu and ')' in menu:\n",
				"        menu_info = menu.rsplit('(', 1)[0].strip()\n",
				"        return menu_info\n",
				"    else:\n",
				"        return menu\n",
				"\n",
				"@udf(StringType())\n",
				"def extract_price(menu):\n",
				"    if '(' in menu and ')' in menu:\n",
				"        price_info_parts = menu.split('(')[-1].split(',')\n",
				"        try:\n",
				"            return price_info_parts[0] + price_info_parts[1]\n",
				"        except IndexError:\n",
				"            return price_info_parts[0] if price_info_parts else \"가격 정보 없음\"\n",
				"    else:\n",
				"        return None\n",
				"\n",
				"@udf(StringType())\n",
				"def extract_description(menu):\n",
				"    if '(' in menu and ')' in menu:\n",
				"        parts = menu.split(\",\")\n",
				"        try:\n",
				"            return parts[2] \n",
				"        except IndexError:\n",
				"            return \"설명 정보 없음\"\n",
				"    else:\n",
				"        return None\n",
				"\n",
				"@udf(StringType())\n",
				"def extract_image(menu):\n",
				"    if '(' in menu and ')' in menu:\n",
				"        parts = menu.split(\",\")\n",
				"        try:\n",
				"            return parts[3] \n",
				"        except IndexError:\n",
				"            return \"이미지 정보 없음\"\n",
				"    else:\n",
				"        return None\n",
				"\n",
				"menu_df = menu_df.withColumn(\"menu\", extract_menu_name(\"menus\")) \\\n",
				"                 .withColumn(\"price\", extract_price(\"menus\")) \\\n",
				"                 .withColumn(\"description\", extract_description(\"menus\")) \\\n",
				"                 .withColumn(\"img\", extract_image(\"menus\"))\n",
				"\n",
				"menu_df = menu_df.drop('menus')\n",
				"menu_df = menu_df.withColumn('id', monotonically_increasing_id())"
			]
		},
		{
			"cell_type": "code",
			"execution_count": 47,
			"metadata": {
				"tags": [],
				"trusted": true,
				"vscode": {
					"languageId": "python_glue_session"
				}
			},
			"outputs": [
				{
					"name": "stdout",
					"output_type": "stream",
					"text": [
						"\n"
					]
				}
			],
			"source": [
				"info_menu = menu_df.select('*')"
			]
		},
		{
			"cell_type": "code",
			"execution_count": 48,
			"metadata": {
				"tags": [],
				"trusted": true,
				"vscode": {
					"languageId": "python_glue_session"
				}
			},
			"outputs": [
				{
					"name": "stdout",
					"output_type": "stream",
					"text": [
						"\n"
					]
				}
			],
			"source": [
				"# menu 중간테이블\n",
				"\n",
				"info_menu_df = info_menu.join(info_df, info_menu.kakao_id == info_df.kakao_id)\n",
				"info_menu_df = info_menu_df.select(info_menu.id, info_df.uuid)\n",
				"info_menu_df = info_menu_df.withColumnRenamed('uuid', 'restaurantinfo_id')\n",
				"info_menu_df = info_menu_df.withColumnRenamed('id', 'menu_id')\n",
				"info_menu_df = info_menu_df.withColumn('id', monotonically_increasing_id())"
			]
		},
		{
			"cell_type": "code",
			"execution_count": 49,
			"metadata": {
				"tags": [],
				"trusted": true,
				"vscode": {
					"languageId": "python_glue_session"
				}
			},
			"outputs": [
				{
					"name": "stdout",
					"output_type": "stream",
					"text": [
						"\n"
					]
				}
			],
			"source": [
				"info_menu_df = info_menu_df.na.drop(subset=['menu_id'])"
			]
		},
		{
			"cell_type": "code",
			"execution_count": 37,
			"metadata": {
				"tags": [],
				"trusted": true,
				"vscode": {
					"languageId": "python_glue_session"
				}
			},
			"outputs": [
				{
					"name": "stdout",
					"output_type": "stream",
					"text": [
						"+----------+--------------------+---+\n",
						"|   menu_id|   restaurantinfo_id| id|\n",
						"+----------+--------------------+---+\n",
						"|8590311085|0dcf3605374e4d649...|  0|\n",
						"|8590311085|c6dbd7236a854ea9b...|  1|\n",
						"|    162028|d2995e8e187848d3a...|  2|\n",
						"|    162029|d2995e8e187848d3a...|  3|\n",
						"|    162030|d2995e8e187848d3a...|  4|\n",
						"|    162031|d2995e8e187848d3a...|  5|\n",
						"|    162032|d2995e8e187848d3a...|  6|\n",
						"|      1319|c666d5a310ba44ab8...|  7|\n",
						"|      1319|6ec77d84c8534b0c9...|  8|\n",
						"|      1319|36476f5d347e4265b...|  9|\n",
						"|      1319|7943514809e34b8b9...| 10|\n",
						"|      1319|dbbe94b5b48c47588...| 11|\n",
						"|      1319|e9ca53799d1347bdb...| 12|\n",
						"|      1319|fa20ba88f79b4e51b...| 13|\n",
						"|      1319|175272fadc2f4e68b...| 14|\n",
						"|      1319|8c66719074124c91b...| 15|\n",
						"|      1319|aec4b45dd98b4566a...| 16|\n",
						"|      1319|bd5340323cae4accb...| 17|\n",
						"|      1319|c778e027e9724e738...| 18|\n",
						"|      1319|1fa175510aa3488ab...| 19|\n",
						"+----------+--------------------+---+\n",
						"only showing top 20 rows\n"
					]
				}
			],
			"source": [
				"info_menu_df.show(20)"
			]
		},
		{
			"cell_type": "code",
			"execution_count": null,
			"metadata": {
				"tags": [],
				"trusted": true,
				"vscode": {
					"languageId": "python_glue_session"
				}
			},
			"outputs": [],
			"source": [
				"# num_partitions = 10\n",
				"# partitioned_info_menu = info_menu_df.repartition(num_partitions)\n",
				"info_menu_df = info_menu_df.coalesce(1)\n",
				"\n",
				"info_menu_df.write.format('csv').option('header', 'true').save('s3://de-4-1-glue-test/backend/restaurant_restaurantinfo_menu/')"
			]
		},
		{
			"cell_type": "code",
			"execution_count": 34,
			"metadata": {
				"tags": [],
				"trusted": true,
				"vscode": {
					"languageId": "python_glue_session"
				}
			},
			"outputs": [
				{
					"name": "stdout",
					"output_type": "stream",
					"text": [
						"381763628\n"
					]
				}
			],
			"source": [
				"print(info_menu_df.count())"
			]
		},
		{
			"cell_type": "code",
			"execution_count": 35,
			"metadata": {
				"tags": [],
				"trusted": true,
				"vscode": {
					"languageId": "python_glue_session"
				}
			},
			"outputs": [
				{
					"name": "stdout",
					"output_type": "stream",
					"text": [
						"root\n",
						" |-- kakao_id: string (nullable = true)\n",
						" |-- menu: string (nullable = true)\n",
						" |-- price: string (nullable = true)\n",
						" |-- description: string (nullable = true)\n",
						" |-- img: string (nullable = true)\n",
						" |-- id: long (nullable = false)\n"
					]
				}
			],
			"source": [
				"menu_df.printSchema()"
			]
		},
		{
			"cell_type": "code",
			"execution_count": 36,
			"metadata": {
				"tags": [],
				"trusted": true,
				"vscode": {
					"languageId": "python_glue_session"
				}
			},
			"outputs": [
				{
					"name": "stdout",
					"output_type": "stream",
					"text": [
						"\n"
					]
				}
			],
			"source": [
				"menu_df = menu_df.drop('kakao_id')\n",
				"\n",
				"num_partitions = 20  \n",
				"partitioned_menu = menu_df.repartition(num_partitions)\n",
				"\n",
				"partitioned_menu.write.format('csv').option('header', 'true').save('s3://de-4-1-glue-test/backend/restaurant_menu/')"
			]
		},
		{
			"cell_type": "markdown",
			"metadata": {},
			"source": [
				"# review"
			]
		},
		{
			"cell_type": "code",
			"execution_count": null,
			"metadata": {
				"tags": [],
				"trusted": true,
				"vscode": {
					"languageId": "python_glue_session"
				}
			},
			"outputs": [],
			"source": [
				"review_dynamic = glueContext.create_dynamic_frame.from_catalog(\n",
				"    database='de-4-1-kakao-db',\n",
				"    table_name='info_type_reviews'\n",
				")\n",
				"\n",
				"review_df = review_dynamic.toDF()\n",
				"# print(review_df.count())\n",
				"# review_df.show(10)"
			]
		},
		{
			"cell_type": "code",
			"execution_count": null,
			"metadata": {
				"tags": [],
				"trusted": true,
				"vscode": {
					"languageId": "python_glue_session"
				}
			},
			"outputs": [],
			"source": [
				"review_df.printSchema()"
			]
		},
		{
			"cell_type": "code",
			"execution_count": null,
			"metadata": {
				"tags": [],
				"trusted": true,
				"vscode": {
					"languageId": "python_glue_session"
				}
			},
			"outputs": [],
			"source": [
				"review_df = review_df.drop('location')\n",
				"review_df = review_df.withColumn('id', monotonically_increasing_id())"
			]
		},
		{
			"cell_type": "code",
			"execution_count": null,
			"metadata": {
				"tags": [],
				"trusted": true,
				"vscode": {
					"languageId": "python_glue_session"
				}
			},
			"outputs": [],
			"source": [
				"review_column = ['id', 'kakao_id', 'kakaomap_user_id', 'contents', 'rate', 'created_at']\n",
				"review_df = review_df[review_column]\n",
				"review_df = review_df.withColumnRenamed('created_at', 'date')\n",
				"review_df = review_df.withColumnRenamed('contents', 'comment')\n",
				"review_df = review_df.withColumnRenamed('kakao_id', 'restaurant')\n",
				"review_df = review_df.withColumnRenamed('kakaomap_user_id', 'username')\n",
				"review_df = review_df.withColumn('source', lit('K'))\n",
				"review_df = review_df.join(info_df, review_df['restaurant'] == info_df['kakao_id'], 'left')\n",
				"review_df = review_df.drop('location', 'restaurant', 'name', 'address', 'phone', 'store_info_last_update', 'source')\n",
				"review_df = review_df.withColumn('user', lit('a'))\n",
				"# review_df.show(10)"
			]
		},
		{
			"cell_type": "code",
			"execution_count": null,
			"metadata": {
				"tags": [],
				"trusted": true,
				"vscode": {
					"languageId": "python_glue_session"
				}
			},
			"outputs": [],
			"source": [
				"num_partitions = 20  \n",
				"partitioned_review = review_df.repartition(num_partitions)\n",
				"\n",
				"partitioned_review.write.format('csv').option('header', 'true').save('s3://de-4-1-glue-test/backend/review/')"
			]
		}
	],
	"metadata": {
		"kernelspec": {
			"display_name": "Glue PySpark",
			"language": "python",
			"name": "glue_pyspark"
		},
		"language_info": {
			"codemirror_mode": {
				"name": "python",
				"version": 3
			},
			"file_extension": ".py",
			"mimetype": "text/x-python",
			"name": "Python_Glue_Session",
			"pygments_lexer": "python3"
		}
	},
	"nbformat": 4,
	"nbformat_minor": 4
}
